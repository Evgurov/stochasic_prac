{
 "cells": [
  {
   "cell_type": "code",
   "execution_count": null,
   "metadata": {},
   "outputs": [],
   "source": [
    "import numpy as np\n",
    "import pandas as pd\n",
    "import seaborn as sns\n",
    "import random"
   ]
  },
  {
   "cell_type": "markdown",
   "metadata": {},
   "source": [
    "### Task 1"
   ]
  },
  {
   "cell_type": "markdown",
   "metadata": {},
   "source": [
    "**Item 1**"
   ]
  },
  {
   "cell_type": "markdown",
   "metadata": {},
   "source": [
    "Python generator of Bernoulli random variable. Able to generate infinitely. \n"
   ]
  },
  {
   "cell_type": "code",
   "execution_count": null,
   "metadata": {},
   "outputs": [],
   "source": [
    "def bern_gen(p):\n",
    "    while True:\n",
    "        if random.random() < p:\n",
    "            yield 1\n",
    "        else:\n",
    "            yield 0"
   ]
  },
  {
   "cell_type": "markdown",
   "metadata": {},
   "source": [
    "Python generator of binominal random variable. Able to generate infinitely."
   ]
  },
  {
   "cell_type": "code",
   "execution_count": null,
   "metadata": {},
   "outputs": [],
   "source": [
    "def bin_gen(p, n):\n",
    "    bg = bern_gen(p)\n",
    "    while True:\n",
    "        sum = 0\n",
    "        for i in range(n):\n",
    "            sum += next(bg)\n",
    "        yield sum"
   ]
  },
  {
   "cell_type": "markdown",
   "metadata": {},
   "source": [
    "Visualization of binominal distribution with success probability *p* and number of attempts *n*."
   ]
  },
  {
   "cell_type": "code",
   "execution_count": null,
   "metadata": {},
   "outputs": [],
   "source": [
    "p = 0.3\n",
    "n = 50\n",
    "bing = bin_gen(p,n)\n",
    "N = 1000\n",
    "\n",
    "sns.set_theme()\n",
    "values = {\"Value\" : [next(bing) for i in range(N)]}\n",
    "sns.displot(data = pd.DataFrame(values), x = \"Value\", kde = True, kde_kws = {\"bw_adjust\" : 1}, discrete = True, stat = 'probability')"
   ]
  },
  {
   "cell_type": "markdown",
   "metadata": {},
   "source": [
    "**Item 2**"
   ]
  },
  {
   "cell_type": "markdown",
   "metadata": {},
   "source": [
    "Python generator of geometric random variable. Able to generate infinitely."
   ]
  },
  {
   "cell_type": "code",
   "execution_count": null,
   "metadata": {},
   "outputs": [],
   "source": [
    "def geom_gen(p):\n",
    "    bg = bern_gen(p)\n",
    "    while True:\n",
    "        sum = 0\n",
    "        while not next(bg):\n",
    "            sum += 1\n",
    "        yield sum"
   ]
  },
  {
   "cell_type": "markdown",
   "metadata": {},
   "source": [
    "Visualization of geometric distribution."
   ]
  },
  {
   "cell_type": "code",
   "execution_count": null,
   "metadata": {},
   "outputs": [],
   "source": [
    "n = 10000\n",
    "p = 0.3\n",
    "gg = geom_gen(p)\n",
    "\n",
    "sns.set_theme()\n",
    "values = {\"n\" : [next(gg) for i in range(n)]}\n",
    "sns.displot(data = pd.DataFrame(values), x = \"n\", kde = True, kde_kws = {\"bw_adjust\" : 2}, discrete = True, stat = 'probability')"
   ]
  },
  {
   "cell_type": "markdown",
   "metadata": {},
   "source": [
    "Representation of geometric distribution memoryless property:  $\\mathbb{P}(\\mathbb{X} > m + n \\, | \\, \\mathbb{X} > m) = \\mathbb{P}(\\mathbb{X} > n) $.  \n",
    "(Previous cell execution required)"
   ]
  },
  {
   "cell_type": "code",
   "execution_count": null,
   "metadata": {},
   "outputs": [],
   "source": [
    "m = 3\n",
    "\n",
    "values[\" \"] = r'$\\mathbb{P}(\\mathbb{X} = n)$'\n",
    "\n",
    "cutted_values = {\"n\" : [value - m for value in values[\"n\"] if value >= m]}\n",
    "cutted_values[\" \"] = r\"$\\mathbb{P}(\\mathbb{X} = m + n | \\mathbb{X} \\geq m)$\"\n",
    "\n",
    "df_new_values = pd.concat([pd.DataFrame(values), pd.DataFrame(cutted_values)], ignore_index = True)\n",
    "\n",
    "sns.set_theme()\n",
    "sns.displot(data = df_new_values, x = \"n\", hue = \" \", discrete = True, stat = 'probability', common_norm = False)"
   ]
  }
 ],
 "metadata": {
  "interpreter": {
   "hash": "20afadedfed1f0bca405cdb17b9bf941b3c3de113b070cf18ffb29586fd1d621"
  },
  "kernelspec": {
   "display_name": "Python 3.8.10 64-bit ('env': venv)",
   "language": "python",
   "name": "python3"
  },
  "language_info": {
   "codemirror_mode": {
    "name": "ipython",
    "version": 3
   },
   "file_extension": ".py",
   "mimetype": "text/x-python",
   "name": "python",
   "nbconvert_exporter": "python",
   "pygments_lexer": "ipython3",
   "version": "3.8.10"
  },
  "orig_nbformat": 4
 },
 "nbformat": 4,
 "nbformat_minor": 2
}
